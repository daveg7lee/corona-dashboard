{
 "cells": [
  {
   "cell_type": "code",
   "execution_count": 29,
   "metadata": {},
   "outputs": [
    {
     "data": {
      "application/vnd.plotly.v1+json": {
       "config": {
        "plotlyServerURL": "https://plot.ly"
       },
       "data": [
        {
         "customdata": [
          [
           32175725,
           573381,
           0,
           "US"
          ],
          [
           17997113,
           201187,
           14817240,
           "India"
          ],
          [
           14441563,
           395022,
           12815119,
           "Brazil"
          ],
          [
           5595403,
           103762,
           341406,
           "France"
          ],
          [
           4725252,
           107167,
           4352649,
           "Russia"
          ],
          [
           4710582,
           39057,
           4167263,
           "Turkey"
          ],
          [
           4425259,
           127705,
           14567,
           "United Kingdom"
          ],
          [
           3981512,
           119912,
           3413451,
           "Italy"
          ],
          [
           3496134,
           77855,
           150376,
           "Spain"
          ],
          [
           3338564,
           82325,
           2960900,
           "Germany"
          ],
          [
           2905172,
           62599,
           2563223,
           "Argentina"
          ],
          [
           2804881,
           72235,
           2616821,
           "Colombia"
          ],
          [
           2768034,
           65897,
           2467036,
           "Poland"
          ],
          [
           2438193,
           70532,
           1907190,
           "Iran"
          ],
          [
           2333126,
           215547,
           1856543,
           "Mexico"
          ],
          [
           2092421,
           44763,
           1646858,
           "Ukraine"
          ],
          [
           1768186,
           60013,
           1714995,
           "Peru"
          ],
          [
           1651794,
           44939,
           1506599,
           "Indonesia"
          ],
          [
           1622777,
           29075,
           1541963,
           "Czechia"
          ],
          [
           1577200,
           54237,
           1502986,
           "South Africa"
          ],
          [
           1497806,
           17328,
           23945,
           "Netherlands"
          ],
          [
           1202672,
           24048,
           1099133,
           "Canada"
          ],
          [
           1179772,
           26020,
           1112463,
           "Chile"
          ],
          [
           1049539,
           27683,
           979445,
           "Romania"
          ],
          [
           1045010,
           15348,
           920523,
           "Iraq"
          ],
          [
           1013618,
           16916,
           925027,
           "Philippines"
          ],
          [
           979034,
           24104,
           0,
           "Belgium"
          ],
          [
           953254,
           13968,
           0,
           "Sweden"
          ],
          [
           838217,
           6359,
           830205,
           "Israel"
          ],
          [
           834991,
           16970,
           794205,
           "Portugal"
          ],
          [
           810231,
           17530,
           704494,
           "Pakistan"
          ],
          [
           772707,
           26984,
           491620,
           "Hungary"
          ],
          [
           751659,
           11228,
           666927,
           "Bangladesh"
          ],
          [
           706355,
           8707,
           675212,
           "Jordan"
          ],
          [
           683799,
           6286,
           0,
           "Serbia"
          ],
          [
           653957,
           10591,
           317600,
           "Switzerland"
          ],
          [
           612170,
           10126,
           577977,
           "Austria"
          ],
          [
           576870,
           10031,
           508232,
           "Japan"
          ],
          [
           522763,
           7197,
           453865,
           "Lebanon"
          ],
          [
           514591,
           1578,
           495589,
           "United Arab Emirates"
          ],
          [
           509972,
           9005,
           496031,
           "Morocco"
          ],
          [
           414219,
           6922,
           397587,
           "Saudi Arabia"
          ],
          [
           401109,
           16182,
           332418,
           "Bulgaria"
          ],
          [
           398451,
           1462,
           371575,
           "Malaysia"
          ],
          [
           380498,
           11572,
           255300,
           "Slovakia"
          ],
          [
           375329,
           18389,
           318598,
           "Ecuador"
          ],
          [
           366709,
           3326,
           319816,
           "Kazakhstan"
          ],
          [
           363533,
           6216,
           353503,
           "Panama"
          ],
          [
           354669,
           2512,
           344950,
           "Belarus"
          ],
          [
           337723,
           10179,
           93764,
           "Greece"
          ],
          [
           324833,
           6957,
           304546,
           "Croatia"
          ],
          [
           315119,
           4429,
           282786,
           "Azerbaijan"
          ],
          [
           307925,
           3194,
           278506,
           "Nepal"
          ],
          [
           305850,
           4060,
           287938,
           "Georgia"
          ],
          [
           303584,
           10444,
           253058,
           "Tunisia"
          ],
          [
           300258,
           12885,
           247961,
           "Bolivia"
          ],
          [
           293466,
           3201,
           267346,
           "West Bank and Gaza"
          ],
          [
           271814,
           6094,
           223606,
           "Paraguay"
          ],
          [
           269681,
           1535,
           252888,
           "Kuwait"
          ],
          [
           265481,
           3462,
           222466,
           "Dominican Republic"
          ],
          [
           254044,
           3605,
           195547,
           "Ethiopia"
          ],
          [
           249714,
           5762,
           238423,
           "Moldova"
          ],
          [
           249644,
           2480,
           237617,
           "Denmark"
          ],
          [
           247489,
           4884,
           23364,
           "Ireland"
          ],
          [
           243167,
           3186,
           201784,
           "Costa Rica"
          ],
          [
           242926,
           3877,
           219678,
           "Lithuania"
          ],
          [
           238023,
           4221,
           223686,
           "Slovenia"
          ],
          [
           224517,
           13168,
           168665,
           "Egypt"
          ],
          [
           223025,
           7453,
           199005,
           "Guatemala"
          ],
          [
           214064,
           4058,
           195701,
           "Armenia"
          ],
          [
           207320,
           5193,
           77814,
           "Honduras"
          ],
          [
           203599,
           441,
           184712,
           "Qatar"
          ],
          [
           196732,
           8418,
           157095,
           "Bosnia and Herzegovina"
          ],
          [
           193721,
           2082,
           176058,
           "Venezuela"
          ],
          [
           191398,
           1992,
           170929,
           "Oman"
          ],
          [
           190096,
           2452,
           160632,
           "Uruguay"
          ],
          [
           176254,
           3010,
           161676,
           "Libya"
          ],
          [
           173548,
           626,
           162537,
           "Bahrain"
          ],
          [
           164912,
           2063,
           155012,
           "Nigeria"
          ],
          [
           157492,
           2665,
           106836,
           "Kenya"
          ],
          [
           151122,
           4742,
           130910,
           "North Macedonia"
          ],
          [
           142740,
           3207,
           131945,
           "Burma"
          ],
          [
           130736,
           2383,
           107163,
           "Albania"
          ],
          [
           121344,
           3225,
           84598,
           "Algeria"
          ],
          [
           120836,
           1148,
           108968,
           "Estonia"
          ],
          [
           120673,
           1821,
           110248,
           "Korea, South"
          ],
          [
           116132,
           2110,
           105828,
           "Latvia"
          ],
          [
           111686,
           736,
           17998,
           "Norway"
          ],
          [
           103638,
           2134,
           91211,
           "Kosovo"
          ],
          [
           103524,
           604,
           97462,
           "Cuba"
          ],
          [
           103487,
           647,
           94856,
           "Sri Lanka"
          ],
          [
           102419,
           4845,
           97097,
           "China"
          ],
          [
           96930,
           1478,
           92975,
           "Montenegro"
          ],
          [
           94277,
           1589,
           88415,
           "Kyrgyzstan"
          ],
          [
           92464,
           779,
           90103,
           "Ghana"
          ],
          [
           91418,
           1249,
           89717,
           "Zambia"
          ],
          [
           89630,
           646,
           86180,
           "Uzbekistan"
          ],
          [
           86161,
           908,
           46000,
           "Finland"
          ],
          [
           69762,
           814,
           64448,
           "Mozambique"
          ],
          [
           68922,
           2111,
           64667,
           "El Salvador"
          ],
          [
           66594,
           791,
           62989,
           "Luxembourg"
          ],
          [
           65998,
           991,
           35261,
           "Cameroon"
          ],
          [
           63720,
           303,
           39061,
           "Cyprus"
          ],
          [
           61063,
           30,
           60704,
           "Singapore"
          ],
          [
           59688,
           163,
           26873,
           "Thailand"
          ],
          [
           59225,
           2598,
           52794,
           "Afghanistan"
          ],
          [
           48011,
           634,
           45740,
           "Namibia"
          ],
          [
           46600,
           702,
           44740,
           "Botswana"
          ],
          [
           45885,
           285,
           45451,
           "Cote d'Ivoire"
          ],
          [
           45212,
           767,
           20729,
           "Jamaica"
          ],
          [
           41737,
           341,
           40898,
           "Uganda"
          ],
          [
           40193,
           1106,
           38953,
           "Senegal"
          ],
          [
           38164,
           1565,
           35480,
           "Zimbabwe"
          ],
          [
           36190,
           614,
           29370,
           "Madagascar"
          ],
          [
           34031,
           1147,
           31953,
           "Malawi"
          ],
          [
           33891,
           2349,
           26795,
           "Sudan"
          ],
          [
           32437,
           88,
           17543,
           "Mongolia"
          ],
          [
           30234,
           413,
           29421,
           "Malta"
          ],
          [
           29750,
           910,
           23260,
           "Australia"
          ],
          [
           29701,
           760,
           26156,
           "Congo (Kinshasa)"
          ],
          [
           28588,
           71,
           24499,
           "Maldives"
          ],
          [
           25942,
           587,
           23341,
           "Angola"
          ],
          [
           24814,
           331,
           23089,
           "Rwanda"
          ],
          [
           22772,
           211,
           19715,
           "Cabo Verde"
          ],
          [
           22568,
           138,
           19173,
           "Gabon"
          ],
          [
           22389,
           1559,
           16283,
           "Syria"
          ],
          [
           22046,
           141,
           19466,
           "Guinea"
          ],
          [
           18448,
           671,
           17741,
           "Eswatini"
          ],
          [
           18314,
           455,
           17620,
           "Mauritania"
          ],
          [
           13915,
           713,
           5847,
           "Somalia"
          ],
          [
           13722,
           476,
           8313,
           "Mali"
          ],
          [
           13308,
           90,
           13218,
           "Tajikistan"
          ],
          [
           13263,
           156,
           12937,
           "Burkina Faso"
          ],
          [
           13121,
           124,
           12561,
           "Andorra"
          ],
          [
           12999,
           253,
           12143,
           "Haiti"
          ],
          [
           12884,
           122,
           10927,
           "Togo"
          ],
          [
           12826,
           291,
           10944,
           "Guyana"
          ],
          [
           12631,
           322,
           12193,
           "Belize"
          ],
          [
           11063,
           82,
           3704,
           "Cambodia"
          ],
          [
           10931,
           142,
           10510,
           "Djibouti"
          ],
          [
           10835,
           105,
           8561,
           "Papua New Guinea"
          ],
          [
           10728,
           316,
           6267,
           "Lesotho"
          ],
          [
           10678,
           144,
           8208,
           "Congo (Brazzaville)"
          ],
          [
           10553,
           114,
           10312,
           "South Sudan"
          ],
          [
           10220,
           198,
           9326,
           "Bahamas"
          ],
          [
           10157,
           201,
           9193,
           "Suriname"
          ],
          [
           9947,
           161,
           8281,
           "Trinidad and Tobago"
          ],
          [
           7720,
           97,
           7510,
           "Benin"
          ],
          [
           7559,
           107,
           7097,
           "Equatorial Guinea"
          ],
          [
           6898,
           182,
           4225,
           "Nicaragua"
          ],
          [
           6447,
           29,
           6240,
           "Iceland"
          ],
          [
           6359,
           87,
           5112,
           "Central African Republic"
          ],
          [
           6220,
           1207,
           2674,
           "Yemen"
          ],
          [
           5882,
           174,
           5309,
           "Gambia"
          ],
          [
           5354,
           26,
           4675,
           "Seychelles"
          ],
          [
           5220,
           191,
           4843,
           "Niger"
          ],
          [
           5058,
           90,
           4880,
           "San Marino"
          ],
          [
           4779,
           170,
           4406,
           "Chad"
          ],
          [
           4508,
           74,
           4344,
           "Saint Lucia"
          ],
          [
           4046,
           79,
           3045,
           "Sierra Leone"
          ],
          [
           3884,
           6,
           773,
           "Burundi"
          ],
          [
           3829,
           146,
           3650,
           "Comoros"
          ],
          [
           3828,
           44,
           3746,
           "Barbados"
          ],
          [
           3731,
           67,
           3267,
           "Guinea-Bissau"
          ],
          [
           3640,
           10,
           3455,
           "Eritrea"
          ],
          [
           2903,
           57,
           2766,
           "Liechtenstein"
          ],
          [
           2857,
           35,
           2516,
           "Vietnam"
          ],
          [
           2609,
           26,
           2547,
           "New Zealand"
          ],
          [
           2442,
           32,
           2338,
           "Monaco"
          ],
          [
           2299,
           35,
           2239,
           "Sao Tome and Principe"
          ],
          [
           2098,
           85,
           1942,
           "Liberia"
          ],
          [
           2048,
           3,
           972,
           "Timor-Leste"
          ],
          [
           1844,
           11,
           1711,
           "Saint Vincent and the Grenadines"
          ],
          [
           1232,
           32,
           1014,
           "Antigua and Barbuda"
          ],
          [
           1206,
           17,
           1055,
           "Mauritius"
          ],
          [
           1110,
           12,
           1050,
           "Taiwan*"
          ],
          [
           1053,
           1,
           951,
           "Bhutan"
          ],
          [
           712,
           13,
           699,
           "Diamond Princess"
          ],
          [
           511,
           0,
           49,
           "Laos"
          ],
          [
           509,
           21,
           183,
           "Tanzania"
          ],
          [
           223,
           3,
           212,
           "Brunei"
          ],
          [
           173,
           0,
           171,
           "Dominica"
          ],
          [
           159,
           1,
           155,
           "Grenada"
          ],
          [
           109,
           2,
           65,
           "Fiji"
          ],
          [
           44,
           0,
           44,
           "Saint Kitts and Nevis"
          ],
          [
           27,
           0,
           15,
           "Holy See"
          ],
          [
           20,
           0,
           19,
           "Solomon Islands"
          ],
          [
           9,
           2,
           7,
           "MS Zaandam"
          ],
          [
           4,
           1,
           3,
           "Vanuatu"
          ],
          [
           4,
           0,
           4,
           "Marshall Islands"
          ],
          [
           3,
           0,
           2,
           "Samoa"
          ],
          [
           1,
           0,
           1,
           "Micronesia"
          ]
         ],
         "geo": "geo",
         "hovertemplate": "<b>%{hovertext}</b><br><br>Confirmed=%{customdata[0]:,2f}<br>Deaths=%{customdata[1]:,2f}<br>Recovered=%{customdata[2]:,2f}<extra></extra>",
         "hovertext": [
          "US",
          "India",
          "Brazil",
          "France",
          "Russia",
          "Turkey",
          "United Kingdom",
          "Italy",
          "Spain",
          "Germany",
          "Argentina",
          "Colombia",
          "Poland",
          "Iran",
          "Mexico",
          "Ukraine",
          "Peru",
          "Indonesia",
          "Czechia",
          "South Africa",
          "Netherlands",
          "Canada",
          "Chile",
          "Romania",
          "Iraq",
          "Philippines",
          "Belgium",
          "Sweden",
          "Israel",
          "Portugal",
          "Pakistan",
          "Hungary",
          "Bangladesh",
          "Jordan",
          "Serbia",
          "Switzerland",
          "Austria",
          "Japan",
          "Lebanon",
          "United Arab Emirates",
          "Morocco",
          "Saudi Arabia",
          "Bulgaria",
          "Malaysia",
          "Slovakia",
          "Ecuador",
          "Kazakhstan",
          "Panama",
          "Belarus",
          "Greece",
          "Croatia",
          "Azerbaijan",
          "Nepal",
          "Georgia",
          "Tunisia",
          "Bolivia",
          "West Bank and Gaza",
          "Paraguay",
          "Kuwait",
          "Dominican Republic",
          "Ethiopia",
          "Moldova",
          "Denmark",
          "Ireland",
          "Costa Rica",
          "Lithuania",
          "Slovenia",
          "Egypt",
          "Guatemala",
          "Armenia",
          "Honduras",
          "Qatar",
          "Bosnia and Herzegovina",
          "Venezuela",
          "Oman",
          "Uruguay",
          "Libya",
          "Bahrain",
          "Nigeria",
          "Kenya",
          "North Macedonia",
          "Burma",
          "Albania",
          "Algeria",
          "Estonia",
          "Korea, South",
          "Latvia",
          "Norway",
          "Kosovo",
          "Cuba",
          "Sri Lanka",
          "China",
          "Montenegro",
          "Kyrgyzstan",
          "Ghana",
          "Zambia",
          "Uzbekistan",
          "Finland",
          "Mozambique",
          "El Salvador",
          "Luxembourg",
          "Cameroon",
          "Cyprus",
          "Singapore",
          "Thailand",
          "Afghanistan",
          "Namibia",
          "Botswana",
          "Cote d'Ivoire",
          "Jamaica",
          "Uganda",
          "Senegal",
          "Zimbabwe",
          "Madagascar",
          "Malawi",
          "Sudan",
          "Mongolia",
          "Malta",
          "Australia",
          "Congo (Kinshasa)",
          "Maldives",
          "Angola",
          "Rwanda",
          "Cabo Verde",
          "Gabon",
          "Syria",
          "Guinea",
          "Eswatini",
          "Mauritania",
          "Somalia",
          "Mali",
          "Tajikistan",
          "Burkina Faso",
          "Andorra",
          "Haiti",
          "Togo",
          "Guyana",
          "Belize",
          "Cambodia",
          "Djibouti",
          "Papua New Guinea",
          "Lesotho",
          "Congo (Brazzaville)",
          "South Sudan",
          "Bahamas",
          "Suriname",
          "Trinidad and Tobago",
          "Benin",
          "Equatorial Guinea",
          "Nicaragua",
          "Iceland",
          "Central African Republic",
          "Yemen",
          "Gambia",
          "Seychelles",
          "Niger",
          "San Marino",
          "Chad",
          "Saint Lucia",
          "Sierra Leone",
          "Burundi",
          "Comoros",
          "Barbados",
          "Guinea-Bissau",
          "Eritrea",
          "Liechtenstein",
          "Vietnam",
          "New Zealand",
          "Monaco",
          "Sao Tome and Principe",
          "Liberia",
          "Timor-Leste",
          "Saint Vincent and the Grenadines",
          "Antigua and Barbuda",
          "Mauritius",
          "Taiwan*",
          "Bhutan",
          "Diamond Princess",
          "Laos",
          "Tanzania",
          "Brunei",
          "Dominica",
          "Grenada",
          "Fiji",
          "Saint Kitts and Nevis",
          "Holy See",
          "Solomon Islands",
          "MS Zaandam",
          "Vanuatu",
          "Marshall Islands",
          "Samoa",
          "Micronesia"
         ],
         "legendgroup": "",
         "locationmode": "country names",
         "locations": [
          "US",
          "India",
          "Brazil",
          "France",
          "Russia",
          "Turkey",
          "United Kingdom",
          "Italy",
          "Spain",
          "Germany",
          "Argentina",
          "Colombia",
          "Poland",
          "Iran",
          "Mexico",
          "Ukraine",
          "Peru",
          "Indonesia",
          "Czechia",
          "South Africa",
          "Netherlands",
          "Canada",
          "Chile",
          "Romania",
          "Iraq",
          "Philippines",
          "Belgium",
          "Sweden",
          "Israel",
          "Portugal",
          "Pakistan",
          "Hungary",
          "Bangladesh",
          "Jordan",
          "Serbia",
          "Switzerland",
          "Austria",
          "Japan",
          "Lebanon",
          "United Arab Emirates",
          "Morocco",
          "Saudi Arabia",
          "Bulgaria",
          "Malaysia",
          "Slovakia",
          "Ecuador",
          "Kazakhstan",
          "Panama",
          "Belarus",
          "Greece",
          "Croatia",
          "Azerbaijan",
          "Nepal",
          "Georgia",
          "Tunisia",
          "Bolivia",
          "West Bank and Gaza",
          "Paraguay",
          "Kuwait",
          "Dominican Republic",
          "Ethiopia",
          "Moldova",
          "Denmark",
          "Ireland",
          "Costa Rica",
          "Lithuania",
          "Slovenia",
          "Egypt",
          "Guatemala",
          "Armenia",
          "Honduras",
          "Qatar",
          "Bosnia and Herzegovina",
          "Venezuela",
          "Oman",
          "Uruguay",
          "Libya",
          "Bahrain",
          "Nigeria",
          "Kenya",
          "North Macedonia",
          "Burma",
          "Albania",
          "Algeria",
          "Estonia",
          "Korea, South",
          "Latvia",
          "Norway",
          "Kosovo",
          "Cuba",
          "Sri Lanka",
          "China",
          "Montenegro",
          "Kyrgyzstan",
          "Ghana",
          "Zambia",
          "Uzbekistan",
          "Finland",
          "Mozambique",
          "El Salvador",
          "Luxembourg",
          "Cameroon",
          "Cyprus",
          "Singapore",
          "Thailand",
          "Afghanistan",
          "Namibia",
          "Botswana",
          "Cote d'Ivoire",
          "Jamaica",
          "Uganda",
          "Senegal",
          "Zimbabwe",
          "Madagascar",
          "Malawi",
          "Sudan",
          "Mongolia",
          "Malta",
          "Australia",
          "Congo (Kinshasa)",
          "Maldives",
          "Angola",
          "Rwanda",
          "Cabo Verde",
          "Gabon",
          "Syria",
          "Guinea",
          "Eswatini",
          "Mauritania",
          "Somalia",
          "Mali",
          "Tajikistan",
          "Burkina Faso",
          "Andorra",
          "Haiti",
          "Togo",
          "Guyana",
          "Belize",
          "Cambodia",
          "Djibouti",
          "Papua New Guinea",
          "Lesotho",
          "Congo (Brazzaville)",
          "South Sudan",
          "Bahamas",
          "Suriname",
          "Trinidad and Tobago",
          "Benin",
          "Equatorial Guinea",
          "Nicaragua",
          "Iceland",
          "Central African Republic",
          "Yemen",
          "Gambia",
          "Seychelles",
          "Niger",
          "San Marino",
          "Chad",
          "Saint Lucia",
          "Sierra Leone",
          "Burundi",
          "Comoros",
          "Barbados",
          "Guinea-Bissau",
          "Eritrea",
          "Liechtenstein",
          "Vietnam",
          "New Zealand",
          "Monaco",
          "Sao Tome and Principe",
          "Liberia",
          "Timor-Leste",
          "Saint Vincent and the Grenadines",
          "Antigua and Barbuda",
          "Mauritius",
          "Taiwan*",
          "Bhutan",
          "Diamond Princess",
          "Laos",
          "Tanzania",
          "Brunei",
          "Dominica",
          "Grenada",
          "Fiji",
          "Saint Kitts and Nevis",
          "Holy See",
          "Solomon Islands",
          "MS Zaandam",
          "Vanuatu",
          "Marshall Islands",
          "Samoa",
          "Micronesia"
         ],
         "marker": {
          "color": "#636efa",
          "size": [
           32175725,
           17997113,
           14441563,
           5595403,
           4725252,
           4710582,
           4425259,
           3981512,
           3496134,
           3338564,
           2905172,
           2804881,
           2768034,
           2438193,
           2333126,
           2092421,
           1768186,
           1651794,
           1622777,
           1577200,
           1497806,
           1202672,
           1179772,
           1049539,
           1045010,
           1013618,
           979034,
           953254,
           838217,
           834991,
           810231,
           772707,
           751659,
           706355,
           683799,
           653957,
           612170,
           576870,
           522763,
           514591,
           509972,
           414219,
           401109,
           398451,
           380498,
           375329,
           366709,
           363533,
           354669,
           337723,
           324833,
           315119,
           307925,
           305850,
           303584,
           300258,
           293466,
           271814,
           269681,
           265481,
           254044,
           249714,
           249644,
           247489,
           243167,
           242926,
           238023,
           224517,
           223025,
           214064,
           207320,
           203599,
           196732,
           193721,
           191398,
           190096,
           176254,
           173548,
           164912,
           157492,
           151122,
           142740,
           130736,
           121344,
           120836,
           120673,
           116132,
           111686,
           103638,
           103524,
           103487,
           102419,
           96930,
           94277,
           92464,
           91418,
           89630,
           86161,
           69762,
           68922,
           66594,
           65998,
           63720,
           61063,
           59688,
           59225,
           48011,
           46600,
           45885,
           45212,
           41737,
           40193,
           38164,
           36190,
           34031,
           33891,
           32437,
           30234,
           29750,
           29701,
           28588,
           25942,
           24814,
           22772,
           22568,
           22389,
           22046,
           18448,
           18314,
           13915,
           13722,
           13308,
           13263,
           13121,
           12999,
           12884,
           12826,
           12631,
           11063,
           10931,
           10835,
           10728,
           10678,
           10553,
           10220,
           10157,
           9947,
           7720,
           7559,
           6898,
           6447,
           6359,
           6220,
           5882,
           5354,
           5220,
           5058,
           4779,
           4508,
           4046,
           3884,
           3829,
           3828,
           3731,
           3640,
           2903,
           2857,
           2609,
           2442,
           2299,
           2098,
           2048,
           1844,
           1232,
           1206,
           1110,
           1053,
           712,
           511,
           509,
           223,
           173,
           159,
           109,
           44,
           27,
           20,
           9,
           4,
           4,
           3,
           1
          ],
          "sizemode": "area",
          "sizeref": 12870.29,
          "symbol": "circle"
         },
         "mode": "markers",
         "name": "",
         "showlegend": false,
         "type": "scattergeo"
        }
       ],
       "layout": {
        "geo": {
         "center": {},
         "domain": {
          "x": [
           0,
           1
          ],
          "y": [
           0,
           1
          ]
         }
        },
        "legend": {
         "itemsizing": "constant",
         "tracegroupgap": 0
        },
        "margin": {
         "t": 60
        },
        "template": {
         "data": {
          "bar": [
           {
            "error_x": {
             "color": "#f2f5fa"
            },
            "error_y": {
             "color": "#f2f5fa"
            },
            "marker": {
             "line": {
              "color": "rgb(17,17,17)",
              "width": 0.5
             }
            },
            "type": "bar"
           }
          ],
          "barpolar": [
           {
            "marker": {
             "line": {
              "color": "rgb(17,17,17)",
              "width": 0.5
             }
            },
            "type": "barpolar"
           }
          ],
          "carpet": [
           {
            "aaxis": {
             "endlinecolor": "#A2B1C6",
             "gridcolor": "#506784",
             "linecolor": "#506784",
             "minorgridcolor": "#506784",
             "startlinecolor": "#A2B1C6"
            },
            "baxis": {
             "endlinecolor": "#A2B1C6",
             "gridcolor": "#506784",
             "linecolor": "#506784",
             "minorgridcolor": "#506784",
             "startlinecolor": "#A2B1C6"
            },
            "type": "carpet"
           }
          ],
          "choropleth": [
           {
            "colorbar": {
             "outlinewidth": 0,
             "ticks": ""
            },
            "type": "choropleth"
           }
          ],
          "contour": [
           {
            "colorbar": {
             "outlinewidth": 0,
             "ticks": ""
            },
            "colorscale": [
             [
              0,
              "#0d0887"
             ],
             [
              0.1111111111111111,
              "#46039f"
             ],
             [
              0.2222222222222222,
              "#7201a8"
             ],
             [
              0.3333333333333333,
              "#9c179e"
             ],
             [
              0.4444444444444444,
              "#bd3786"
             ],
             [
              0.5555555555555556,
              "#d8576b"
             ],
             [
              0.6666666666666666,
              "#ed7953"
             ],
             [
              0.7777777777777778,
              "#fb9f3a"
             ],
             [
              0.8888888888888888,
              "#fdca26"
             ],
             [
              1,
              "#f0f921"
             ]
            ],
            "type": "contour"
           }
          ],
          "contourcarpet": [
           {
            "colorbar": {
             "outlinewidth": 0,
             "ticks": ""
            },
            "type": "contourcarpet"
           }
          ],
          "heatmap": [
           {
            "colorbar": {
             "outlinewidth": 0,
             "ticks": ""
            },
            "colorscale": [
             [
              0,
              "#0d0887"
             ],
             [
              0.1111111111111111,
              "#46039f"
             ],
             [
              0.2222222222222222,
              "#7201a8"
             ],
             [
              0.3333333333333333,
              "#9c179e"
             ],
             [
              0.4444444444444444,
              "#bd3786"
             ],
             [
              0.5555555555555556,
              "#d8576b"
             ],
             [
              0.6666666666666666,
              "#ed7953"
             ],
             [
              0.7777777777777778,
              "#fb9f3a"
             ],
             [
              0.8888888888888888,
              "#fdca26"
             ],
             [
              1,
              "#f0f921"
             ]
            ],
            "type": "heatmap"
           }
          ],
          "heatmapgl": [
           {
            "colorbar": {
             "outlinewidth": 0,
             "ticks": ""
            },
            "colorscale": [
             [
              0,
              "#0d0887"
             ],
             [
              0.1111111111111111,
              "#46039f"
             ],
             [
              0.2222222222222222,
              "#7201a8"
             ],
             [
              0.3333333333333333,
              "#9c179e"
             ],
             [
              0.4444444444444444,
              "#bd3786"
             ],
             [
              0.5555555555555556,
              "#d8576b"
             ],
             [
              0.6666666666666666,
              "#ed7953"
             ],
             [
              0.7777777777777778,
              "#fb9f3a"
             ],
             [
              0.8888888888888888,
              "#fdca26"
             ],
             [
              1,
              "#f0f921"
             ]
            ],
            "type": "heatmapgl"
           }
          ],
          "histogram": [
           {
            "marker": {
             "colorbar": {
              "outlinewidth": 0,
              "ticks": ""
             }
            },
            "type": "histogram"
           }
          ],
          "histogram2d": [
           {
            "colorbar": {
             "outlinewidth": 0,
             "ticks": ""
            },
            "colorscale": [
             [
              0,
              "#0d0887"
             ],
             [
              0.1111111111111111,
              "#46039f"
             ],
             [
              0.2222222222222222,
              "#7201a8"
             ],
             [
              0.3333333333333333,
              "#9c179e"
             ],
             [
              0.4444444444444444,
              "#bd3786"
             ],
             [
              0.5555555555555556,
              "#d8576b"
             ],
             [
              0.6666666666666666,
              "#ed7953"
             ],
             [
              0.7777777777777778,
              "#fb9f3a"
             ],
             [
              0.8888888888888888,
              "#fdca26"
             ],
             [
              1,
              "#f0f921"
             ]
            ],
            "type": "histogram2d"
           }
          ],
          "histogram2dcontour": [
           {
            "colorbar": {
             "outlinewidth": 0,
             "ticks": ""
            },
            "colorscale": [
             [
              0,
              "#0d0887"
             ],
             [
              0.1111111111111111,
              "#46039f"
             ],
             [
              0.2222222222222222,
              "#7201a8"
             ],
             [
              0.3333333333333333,
              "#9c179e"
             ],
             [
              0.4444444444444444,
              "#bd3786"
             ],
             [
              0.5555555555555556,
              "#d8576b"
             ],
             [
              0.6666666666666666,
              "#ed7953"
             ],
             [
              0.7777777777777778,
              "#fb9f3a"
             ],
             [
              0.8888888888888888,
              "#fdca26"
             ],
             [
              1,
              "#f0f921"
             ]
            ],
            "type": "histogram2dcontour"
           }
          ],
          "mesh3d": [
           {
            "colorbar": {
             "outlinewidth": 0,
             "ticks": ""
            },
            "type": "mesh3d"
           }
          ],
          "parcoords": [
           {
            "line": {
             "colorbar": {
              "outlinewidth": 0,
              "ticks": ""
             }
            },
            "type": "parcoords"
           }
          ],
          "pie": [
           {
            "automargin": true,
            "type": "pie"
           }
          ],
          "scatter": [
           {
            "marker": {
             "line": {
              "color": "#283442"
             }
            },
            "type": "scatter"
           }
          ],
          "scatter3d": [
           {
            "line": {
             "colorbar": {
              "outlinewidth": 0,
              "ticks": ""
             }
            },
            "marker": {
             "colorbar": {
              "outlinewidth": 0,
              "ticks": ""
             }
            },
            "type": "scatter3d"
           }
          ],
          "scattercarpet": [
           {
            "marker": {
             "colorbar": {
              "outlinewidth": 0,
              "ticks": ""
             }
            },
            "type": "scattercarpet"
           }
          ],
          "scattergeo": [
           {
            "marker": {
             "colorbar": {
              "outlinewidth": 0,
              "ticks": ""
             }
            },
            "type": "scattergeo"
           }
          ],
          "scattergl": [
           {
            "marker": {
             "line": {
              "color": "#283442"
             }
            },
            "type": "scattergl"
           }
          ],
          "scattermapbox": [
           {
            "marker": {
             "colorbar": {
              "outlinewidth": 0,
              "ticks": ""
             }
            },
            "type": "scattermapbox"
           }
          ],
          "scatterpolar": [
           {
            "marker": {
             "colorbar": {
              "outlinewidth": 0,
              "ticks": ""
             }
            },
            "type": "scatterpolar"
           }
          ],
          "scatterpolargl": [
           {
            "marker": {
             "colorbar": {
              "outlinewidth": 0,
              "ticks": ""
             }
            },
            "type": "scatterpolargl"
           }
          ],
          "scatterternary": [
           {
            "marker": {
             "colorbar": {
              "outlinewidth": 0,
              "ticks": ""
             }
            },
            "type": "scatterternary"
           }
          ],
          "surface": [
           {
            "colorbar": {
             "outlinewidth": 0,
             "ticks": ""
            },
            "colorscale": [
             [
              0,
              "#0d0887"
             ],
             [
              0.1111111111111111,
              "#46039f"
             ],
             [
              0.2222222222222222,
              "#7201a8"
             ],
             [
              0.3333333333333333,
              "#9c179e"
             ],
             [
              0.4444444444444444,
              "#bd3786"
             ],
             [
              0.5555555555555556,
              "#d8576b"
             ],
             [
              0.6666666666666666,
              "#ed7953"
             ],
             [
              0.7777777777777778,
              "#fb9f3a"
             ],
             [
              0.8888888888888888,
              "#fdca26"
             ],
             [
              1,
              "#f0f921"
             ]
            ],
            "type": "surface"
           }
          ],
          "table": [
           {
            "cells": {
             "fill": {
              "color": "#506784"
             },
             "line": {
              "color": "rgb(17,17,17)"
             }
            },
            "header": {
             "fill": {
              "color": "#2a3f5f"
             },
             "line": {
              "color": "rgb(17,17,17)"
             }
            },
            "type": "table"
           }
          ]
         },
         "layout": {
          "annotationdefaults": {
           "arrowcolor": "#f2f5fa",
           "arrowhead": 0,
           "arrowwidth": 1
          },
          "autotypenumbers": "strict",
          "coloraxis": {
           "colorbar": {
            "outlinewidth": 0,
            "ticks": ""
           }
          },
          "colorscale": {
           "diverging": [
            [
             0,
             "#8e0152"
            ],
            [
             0.1,
             "#c51b7d"
            ],
            [
             0.2,
             "#de77ae"
            ],
            [
             0.3,
             "#f1b6da"
            ],
            [
             0.4,
             "#fde0ef"
            ],
            [
             0.5,
             "#f7f7f7"
            ],
            [
             0.6,
             "#e6f5d0"
            ],
            [
             0.7,
             "#b8e186"
            ],
            [
             0.8,
             "#7fbc41"
            ],
            [
             0.9,
             "#4d9221"
            ],
            [
             1,
             "#276419"
            ]
           ],
           "sequential": [
            [
             0,
             "#0d0887"
            ],
            [
             0.1111111111111111,
             "#46039f"
            ],
            [
             0.2222222222222222,
             "#7201a8"
            ],
            [
             0.3333333333333333,
             "#9c179e"
            ],
            [
             0.4444444444444444,
             "#bd3786"
            ],
            [
             0.5555555555555556,
             "#d8576b"
            ],
            [
             0.6666666666666666,
             "#ed7953"
            ],
            [
             0.7777777777777778,
             "#fb9f3a"
            ],
            [
             0.8888888888888888,
             "#fdca26"
            ],
            [
             1,
             "#f0f921"
            ]
           ],
           "sequentialminus": [
            [
             0,
             "#0d0887"
            ],
            [
             0.1111111111111111,
             "#46039f"
            ],
            [
             0.2222222222222222,
             "#7201a8"
            ],
            [
             0.3333333333333333,
             "#9c179e"
            ],
            [
             0.4444444444444444,
             "#bd3786"
            ],
            [
             0.5555555555555556,
             "#d8576b"
            ],
            [
             0.6666666666666666,
             "#ed7953"
            ],
            [
             0.7777777777777778,
             "#fb9f3a"
            ],
            [
             0.8888888888888888,
             "#fdca26"
            ],
            [
             1,
             "#f0f921"
            ]
           ]
          },
          "colorway": [
           "#636efa",
           "#EF553B",
           "#00cc96",
           "#ab63fa",
           "#FFA15A",
           "#19d3f3",
           "#FF6692",
           "#B6E880",
           "#FF97FF",
           "#FECB52"
          ],
          "font": {
           "color": "#f2f5fa"
          },
          "geo": {
           "bgcolor": "rgb(17,17,17)",
           "lakecolor": "rgb(17,17,17)",
           "landcolor": "rgb(17,17,17)",
           "showlakes": true,
           "showland": true,
           "subunitcolor": "#506784"
          },
          "hoverlabel": {
           "align": "left"
          },
          "hovermode": "closest",
          "mapbox": {
           "style": "dark"
          },
          "paper_bgcolor": "rgb(17,17,17)",
          "plot_bgcolor": "rgb(17,17,17)",
          "polar": {
           "angularaxis": {
            "gridcolor": "#506784",
            "linecolor": "#506784",
            "ticks": ""
           },
           "bgcolor": "rgb(17,17,17)",
           "radialaxis": {
            "gridcolor": "#506784",
            "linecolor": "#506784",
            "ticks": ""
           }
          },
          "scene": {
           "xaxis": {
            "backgroundcolor": "rgb(17,17,17)",
            "gridcolor": "#506784",
            "gridwidth": 2,
            "linecolor": "#506784",
            "showbackground": true,
            "ticks": "",
            "zerolinecolor": "#C8D4E3"
           },
           "yaxis": {
            "backgroundcolor": "rgb(17,17,17)",
            "gridcolor": "#506784",
            "gridwidth": 2,
            "linecolor": "#506784",
            "showbackground": true,
            "ticks": "",
            "zerolinecolor": "#C8D4E3"
           },
           "zaxis": {
            "backgroundcolor": "rgb(17,17,17)",
            "gridcolor": "#506784",
            "gridwidth": 2,
            "linecolor": "#506784",
            "showbackground": true,
            "ticks": "",
            "zerolinecolor": "#C8D4E3"
           }
          },
          "shapedefaults": {
           "line": {
            "color": "#f2f5fa"
           }
          },
          "sliderdefaults": {
           "bgcolor": "#C8D4E3",
           "bordercolor": "rgb(17,17,17)",
           "borderwidth": 1,
           "tickwidth": 0
          },
          "ternary": {
           "aaxis": {
            "gridcolor": "#506784",
            "linecolor": "#506784",
            "ticks": ""
           },
           "baxis": {
            "gridcolor": "#506784",
            "linecolor": "#506784",
            "ticks": ""
           },
           "bgcolor": "rgb(17,17,17)",
           "caxis": {
            "gridcolor": "#506784",
            "linecolor": "#506784",
            "ticks": ""
           }
          },
          "title": {
           "x": 0.05
          },
          "updatemenudefaults": {
           "bgcolor": "#506784",
           "borderwidth": 0
          },
          "xaxis": {
           "automargin": true,
           "gridcolor": "#283442",
           "linecolor": "#506784",
           "ticks": "",
           "title": {
            "standoff": 15
           },
           "zerolinecolor": "#283442",
           "zerolinewidth": 2
          },
          "yaxis": {
           "automargin": true,
           "gridcolor": "#283442",
           "linecolor": "#506784",
           "ticks": "",
           "title": {
            "standoff": 15
           },
           "zerolinecolor": "#283442",
           "zerolinewidth": 2
          }
         }
        }
       }
      },
      "text/html": [
       "<div>                            <div id=\"d99d5ad7-f398-4278-a380-9d1030e61968\" class=\"plotly-graph-div\" style=\"height:525px; width:100%;\"></div>            <script type=\"text/javascript\">                require([\"plotly\"], function(Plotly) {                    window.PLOTLYENV=window.PLOTLYENV || {};                                    if (document.getElementById(\"d99d5ad7-f398-4278-a380-9d1030e61968\")) {                    Plotly.newPlot(                        \"d99d5ad7-f398-4278-a380-9d1030e61968\",                        [{\"customdata\": [[32175725, 573381, 0.0, \"US\"], [17997113, 201187, 14817240.0, \"India\"], [14441563, 395022, 12815119.0, \"Brazil\"], [5595403, 103762, 341406.0, \"France\"], [4725252, 107167, 4352649.0, \"Russia\"], [4710582, 39057, 4167263.0, \"Turkey\"], [4425259, 127705, 14567.0, \"United Kingdom\"], [3981512, 119912, 3413451.0, \"Italy\"], [3496134, 77855, 150376.0, \"Spain\"], [3338564, 82325, 2960900.0, \"Germany\"], [2905172, 62599, 2563223.0, \"Argentina\"], [2804881, 72235, 2616821.0, \"Colombia\"], [2768034, 65897, 2467036.0, \"Poland\"], [2438193, 70532, 1907190.0, \"Iran\"], [2333126, 215547, 1856543.0, \"Mexico\"], [2092421, 44763, 1646858.0, \"Ukraine\"], [1768186, 60013, 1714995.0, \"Peru\"], [1651794, 44939, 1506599.0, \"Indonesia\"], [1622777, 29075, 1541963.0, \"Czechia\"], [1577200, 54237, 1502986.0, \"South Africa\"], [1497806, 17328, 23945.0, \"Netherlands\"], [1202672, 24048, 1099133.0, \"Canada\"], [1179772, 26020, 1112463.0, \"Chile\"], [1049539, 27683, 979445.0, \"Romania\"], [1045010, 15348, 920523.0, \"Iraq\"], [1013618, 16916, 925027.0, \"Philippines\"], [979034, 24104, 0.0, \"Belgium\"], [953254, 13968, 0.0, \"Sweden\"], [838217, 6359, 830205.0, \"Israel\"], [834991, 16970, 794205.0, \"Portugal\"], [810231, 17530, 704494.0, \"Pakistan\"], [772707, 26984, 491620.0, \"Hungary\"], [751659, 11228, 666927.0, \"Bangladesh\"], [706355, 8707, 675212.0, \"Jordan\"], [683799, 6286, 0.0, \"Serbia\"], [653957, 10591, 317600.0, \"Switzerland\"], [612170, 10126, 577977.0, \"Austria\"], [576870, 10031, 508232.0, \"Japan\"], [522763, 7197, 453865.0, \"Lebanon\"], [514591, 1578, 495589.0, \"United Arab Emirates\"], [509972, 9005, 496031.0, \"Morocco\"], [414219, 6922, 397587.0, \"Saudi Arabia\"], [401109, 16182, 332418.0, \"Bulgaria\"], [398451, 1462, 371575.0, \"Malaysia\"], [380498, 11572, 255300.0, \"Slovakia\"], [375329, 18389, 318598.0, \"Ecuador\"], [366709, 3326, 319816.0, \"Kazakhstan\"], [363533, 6216, 353503.0, \"Panama\"], [354669, 2512, 344950.0, \"Belarus\"], [337723, 10179, 93764.0, \"Greece\"], [324833, 6957, 304546.0, \"Croatia\"], [315119, 4429, 282786.0, \"Azerbaijan\"], [307925, 3194, 278506.0, \"Nepal\"], [305850, 4060, 287938.0, \"Georgia\"], [303584, 10444, 253058.0, \"Tunisia\"], [300258, 12885, 247961.0, \"Bolivia\"], [293466, 3201, 267346.0, \"West Bank and Gaza\"], [271814, 6094, 223606.0, \"Paraguay\"], [269681, 1535, 252888.0, \"Kuwait\"], [265481, 3462, 222466.0, \"Dominican Republic\"], [254044, 3605, 195547.0, \"Ethiopia\"], [249714, 5762, 238423.0, \"Moldova\"], [249644, 2480, 237617.0, \"Denmark\"], [247489, 4884, 23364.0, \"Ireland\"], [243167, 3186, 201784.0, \"Costa Rica\"], [242926, 3877, 219678.0, \"Lithuania\"], [238023, 4221, 223686.0, \"Slovenia\"], [224517, 13168, 168665.0, \"Egypt\"], [223025, 7453, 199005.0, \"Guatemala\"], [214064, 4058, 195701.0, \"Armenia\"], [207320, 5193, 77814.0, \"Honduras\"], [203599, 441, 184712.0, \"Qatar\"], [196732, 8418, 157095.0, \"Bosnia and Herzegovina\"], [193721, 2082, 176058.0, \"Venezuela\"], [191398, 1992, 170929.0, \"Oman\"], [190096, 2452, 160632.0, \"Uruguay\"], [176254, 3010, 161676.0, \"Libya\"], [173548, 626, 162537.0, \"Bahrain\"], [164912, 2063, 155012.0, \"Nigeria\"], [157492, 2665, 106836.0, \"Kenya\"], [151122, 4742, 130910.0, \"North Macedonia\"], [142740, 3207, 131945.0, \"Burma\"], [130736, 2383, 107163.0, \"Albania\"], [121344, 3225, 84598.0, \"Algeria\"], [120836, 1148, 108968.0, \"Estonia\"], [120673, 1821, 110248.0, \"Korea, South\"], [116132, 2110, 105828.0, \"Latvia\"], [111686, 736, 17998.0, \"Norway\"], [103638, 2134, 91211.0, \"Kosovo\"], [103524, 604, 97462.0, \"Cuba\"], [103487, 647, 94856.0, \"Sri Lanka\"], [102419, 4845, 97097.0, \"China\"], [96930, 1478, 92975.0, \"Montenegro\"], [94277, 1589, 88415.0, \"Kyrgyzstan\"], [92464, 779, 90103.0, \"Ghana\"], [91418, 1249, 89717.0, \"Zambia\"], [89630, 646, 86180.0, \"Uzbekistan\"], [86161, 908, 46000.0, \"Finland\"], [69762, 814, 64448.0, \"Mozambique\"], [68922, 2111, 64667.0, \"El Salvador\"], [66594, 791, 62989.0, \"Luxembourg\"], [65998, 991, 35261.0, \"Cameroon\"], [63720, 303, 39061.0, \"Cyprus\"], [61063, 30, 60704.0, \"Singapore\"], [59688, 163, 26873.0, \"Thailand\"], [59225, 2598, 52794.0, \"Afghanistan\"], [48011, 634, 45740.0, \"Namibia\"], [46600, 702, 44740.0, \"Botswana\"], [45885, 285, 45451.0, \"Cote d'Ivoire\"], [45212, 767, 20729.0, \"Jamaica\"], [41737, 341, 40898.0, \"Uganda\"], [40193, 1106, 38953.0, \"Senegal\"], [38164, 1565, 35480.0, \"Zimbabwe\"], [36190, 614, 29370.0, \"Madagascar\"], [34031, 1147, 31953.0, \"Malawi\"], [33891, 2349, 26795.0, \"Sudan\"], [32437, 88, 17543.0, \"Mongolia\"], [30234, 413, 29421.0, \"Malta\"], [29750, 910, 23260.0, \"Australia\"], [29701, 760, 26156.0, \"Congo (Kinshasa)\"], [28588, 71, 24499.0, \"Maldives\"], [25942, 587, 23341.0, \"Angola\"], [24814, 331, 23089.0, \"Rwanda\"], [22772, 211, 19715.0, \"Cabo Verde\"], [22568, 138, 19173.0, \"Gabon\"], [22389, 1559, 16283.0, \"Syria\"], [22046, 141, 19466.0, \"Guinea\"], [18448, 671, 17741.0, \"Eswatini\"], [18314, 455, 17620.0, \"Mauritania\"], [13915, 713, 5847.0, \"Somalia\"], [13722, 476, 8313.0, \"Mali\"], [13308, 90, 13218.0, \"Tajikistan\"], [13263, 156, 12937.0, \"Burkina Faso\"], [13121, 124, 12561.0, \"Andorra\"], [12999, 253, 12143.0, \"Haiti\"], [12884, 122, 10927.0, \"Togo\"], [12826, 291, 10944.0, \"Guyana\"], [12631, 322, 12193.0, \"Belize\"], [11063, 82, 3704.0, \"Cambodia\"], [10931, 142, 10510.0, \"Djibouti\"], [10835, 105, 8561.0, \"Papua New Guinea\"], [10728, 316, 6267.0, \"Lesotho\"], [10678, 144, 8208.0, \"Congo (Brazzaville)\"], [10553, 114, 10312.0, \"South Sudan\"], [10220, 198, 9326.0, \"Bahamas\"], [10157, 201, 9193.0, \"Suriname\"], [9947, 161, 8281.0, \"Trinidad and Tobago\"], [7720, 97, 7510.0, \"Benin\"], [7559, 107, 7097.0, \"Equatorial Guinea\"], [6898, 182, 4225.0, \"Nicaragua\"], [6447, 29, 6240.0, \"Iceland\"], [6359, 87, 5112.0, \"Central African Republic\"], [6220, 1207, 2674.0, \"Yemen\"], [5882, 174, 5309.0, \"Gambia\"], [5354, 26, 4675.0, \"Seychelles\"], [5220, 191, 4843.0, \"Niger\"], [5058, 90, 4880.0, \"San Marino\"], [4779, 170, 4406.0, \"Chad\"], [4508, 74, 4344.0, \"Saint Lucia\"], [4046, 79, 3045.0, \"Sierra Leone\"], [3884, 6, 773.0, \"Burundi\"], [3829, 146, 3650.0, \"Comoros\"], [3828, 44, 3746.0, \"Barbados\"], [3731, 67, 3267.0, \"Guinea-Bissau\"], [3640, 10, 3455.0, \"Eritrea\"], [2903, 57, 2766.0, \"Liechtenstein\"], [2857, 35, 2516.0, \"Vietnam\"], [2609, 26, 2547.0, \"New Zealand\"], [2442, 32, 2338.0, \"Monaco\"], [2299, 35, 2239.0, \"Sao Tome and Principe\"], [2098, 85, 1942.0, \"Liberia\"], [2048, 3, 972.0, \"Timor-Leste\"], [1844, 11, 1711.0, \"Saint Vincent and the Grenadines\"], [1232, 32, 1014.0, \"Antigua and Barbuda\"], [1206, 17, 1055.0, \"Mauritius\"], [1110, 12, 1050.0, \"Taiwan*\"], [1053, 1, 951.0, \"Bhutan\"], [712, 13, 699.0, \"Diamond Princess\"], [511, 0, 49.0, \"Laos\"], [509, 21, 183.0, \"Tanzania\"], [223, 3, 212.0, \"Brunei\"], [173, 0, 171.0, \"Dominica\"], [159, 1, 155.0, \"Grenada\"], [109, 2, 65.0, \"Fiji\"], [44, 0, 44.0, \"Saint Kitts and Nevis\"], [27, 0, 15.0, \"Holy See\"], [20, 0, 19.0, \"Solomon Islands\"], [9, 2, 7.0, \"MS Zaandam\"], [4, 1, 3.0, \"Vanuatu\"], [4, 0, 4.0, \"Marshall Islands\"], [3, 0, 2.0, \"Samoa\"], [1, 0, 1.0, \"Micronesia\"]], \"geo\": \"geo\", \"hovertemplate\": \"<b>%{hovertext}</b><br><br>Confirmed=%{customdata[0]:,2f}<br>Deaths=%{customdata[1]:,2f}<br>Recovered=%{customdata[2]:,2f}<extra></extra>\", \"hovertext\": [\"US\", \"India\", \"Brazil\", \"France\", \"Russia\", \"Turkey\", \"United Kingdom\", \"Italy\", \"Spain\", \"Germany\", \"Argentina\", \"Colombia\", \"Poland\", \"Iran\", \"Mexico\", \"Ukraine\", \"Peru\", \"Indonesia\", \"Czechia\", \"South Africa\", \"Netherlands\", \"Canada\", \"Chile\", \"Romania\", \"Iraq\", \"Philippines\", \"Belgium\", \"Sweden\", \"Israel\", \"Portugal\", \"Pakistan\", \"Hungary\", \"Bangladesh\", \"Jordan\", \"Serbia\", \"Switzerland\", \"Austria\", \"Japan\", \"Lebanon\", \"United Arab Emirates\", \"Morocco\", \"Saudi Arabia\", \"Bulgaria\", \"Malaysia\", \"Slovakia\", \"Ecuador\", \"Kazakhstan\", \"Panama\", \"Belarus\", \"Greece\", \"Croatia\", \"Azerbaijan\", \"Nepal\", \"Georgia\", \"Tunisia\", \"Bolivia\", \"West Bank and Gaza\", \"Paraguay\", \"Kuwait\", \"Dominican Republic\", \"Ethiopia\", \"Moldova\", \"Denmark\", \"Ireland\", \"Costa Rica\", \"Lithuania\", \"Slovenia\", \"Egypt\", \"Guatemala\", \"Armenia\", \"Honduras\", \"Qatar\", \"Bosnia and Herzegovina\", \"Venezuela\", \"Oman\", \"Uruguay\", \"Libya\", \"Bahrain\", \"Nigeria\", \"Kenya\", \"North Macedonia\", \"Burma\", \"Albania\", \"Algeria\", \"Estonia\", \"Korea, South\", \"Latvia\", \"Norway\", \"Kosovo\", \"Cuba\", \"Sri Lanka\", \"China\", \"Montenegro\", \"Kyrgyzstan\", \"Ghana\", \"Zambia\", \"Uzbekistan\", \"Finland\", \"Mozambique\", \"El Salvador\", \"Luxembourg\", \"Cameroon\", \"Cyprus\", \"Singapore\", \"Thailand\", \"Afghanistan\", \"Namibia\", \"Botswana\", \"Cote d'Ivoire\", \"Jamaica\", \"Uganda\", \"Senegal\", \"Zimbabwe\", \"Madagascar\", \"Malawi\", \"Sudan\", \"Mongolia\", \"Malta\", \"Australia\", \"Congo (Kinshasa)\", \"Maldives\", \"Angola\", \"Rwanda\", \"Cabo Verde\", \"Gabon\", \"Syria\", \"Guinea\", \"Eswatini\", \"Mauritania\", \"Somalia\", \"Mali\", \"Tajikistan\", \"Burkina Faso\", \"Andorra\", \"Haiti\", \"Togo\", \"Guyana\", \"Belize\", \"Cambodia\", \"Djibouti\", \"Papua New Guinea\", \"Lesotho\", \"Congo (Brazzaville)\", \"South Sudan\", \"Bahamas\", \"Suriname\", \"Trinidad and Tobago\", \"Benin\", \"Equatorial Guinea\", \"Nicaragua\", \"Iceland\", \"Central African Republic\", \"Yemen\", \"Gambia\", \"Seychelles\", \"Niger\", \"San Marino\", \"Chad\", \"Saint Lucia\", \"Sierra Leone\", \"Burundi\", \"Comoros\", \"Barbados\", \"Guinea-Bissau\", \"Eritrea\", \"Liechtenstein\", \"Vietnam\", \"New Zealand\", \"Monaco\", \"Sao Tome and Principe\", \"Liberia\", \"Timor-Leste\", \"Saint Vincent and the Grenadines\", \"Antigua and Barbuda\", \"Mauritius\", \"Taiwan*\", \"Bhutan\", \"Diamond Princess\", \"Laos\", \"Tanzania\", \"Brunei\", \"Dominica\", \"Grenada\", \"Fiji\", \"Saint Kitts and Nevis\", \"Holy See\", \"Solomon Islands\", \"MS Zaandam\", \"Vanuatu\", \"Marshall Islands\", \"Samoa\", \"Micronesia\"], \"legendgroup\": \"\", \"locationmode\": \"country names\", \"locations\": [\"US\", \"India\", \"Brazil\", \"France\", \"Russia\", \"Turkey\", \"United Kingdom\", \"Italy\", \"Spain\", \"Germany\", \"Argentina\", \"Colombia\", \"Poland\", \"Iran\", \"Mexico\", \"Ukraine\", \"Peru\", \"Indonesia\", \"Czechia\", \"South Africa\", \"Netherlands\", \"Canada\", \"Chile\", \"Romania\", \"Iraq\", \"Philippines\", \"Belgium\", \"Sweden\", \"Israel\", \"Portugal\", \"Pakistan\", \"Hungary\", \"Bangladesh\", \"Jordan\", \"Serbia\", \"Switzerland\", \"Austria\", \"Japan\", \"Lebanon\", \"United Arab Emirates\", \"Morocco\", \"Saudi Arabia\", \"Bulgaria\", \"Malaysia\", \"Slovakia\", \"Ecuador\", \"Kazakhstan\", \"Panama\", \"Belarus\", \"Greece\", \"Croatia\", \"Azerbaijan\", \"Nepal\", \"Georgia\", \"Tunisia\", \"Bolivia\", \"West Bank and Gaza\", \"Paraguay\", \"Kuwait\", \"Dominican Republic\", \"Ethiopia\", \"Moldova\", \"Denmark\", \"Ireland\", \"Costa Rica\", \"Lithuania\", \"Slovenia\", \"Egypt\", \"Guatemala\", \"Armenia\", \"Honduras\", \"Qatar\", \"Bosnia and Herzegovina\", \"Venezuela\", \"Oman\", \"Uruguay\", \"Libya\", \"Bahrain\", \"Nigeria\", \"Kenya\", \"North Macedonia\", \"Burma\", \"Albania\", \"Algeria\", \"Estonia\", \"Korea, South\", \"Latvia\", \"Norway\", \"Kosovo\", \"Cuba\", \"Sri Lanka\", \"China\", \"Montenegro\", \"Kyrgyzstan\", \"Ghana\", \"Zambia\", \"Uzbekistan\", \"Finland\", \"Mozambique\", \"El Salvador\", \"Luxembourg\", \"Cameroon\", \"Cyprus\", \"Singapore\", \"Thailand\", \"Afghanistan\", \"Namibia\", \"Botswana\", \"Cote d'Ivoire\", \"Jamaica\", \"Uganda\", \"Senegal\", \"Zimbabwe\", \"Madagascar\", \"Malawi\", \"Sudan\", \"Mongolia\", \"Malta\", \"Australia\", \"Congo (Kinshasa)\", \"Maldives\", \"Angola\", \"Rwanda\", \"Cabo Verde\", \"Gabon\", \"Syria\", \"Guinea\", \"Eswatini\", \"Mauritania\", \"Somalia\", \"Mali\", \"Tajikistan\", \"Burkina Faso\", \"Andorra\", \"Haiti\", \"Togo\", \"Guyana\", \"Belize\", \"Cambodia\", \"Djibouti\", \"Papua New Guinea\", \"Lesotho\", \"Congo (Brazzaville)\", \"South Sudan\", \"Bahamas\", \"Suriname\", \"Trinidad and Tobago\", \"Benin\", \"Equatorial Guinea\", \"Nicaragua\", \"Iceland\", \"Central African Republic\", \"Yemen\", \"Gambia\", \"Seychelles\", \"Niger\", \"San Marino\", \"Chad\", \"Saint Lucia\", \"Sierra Leone\", \"Burundi\", \"Comoros\", \"Barbados\", \"Guinea-Bissau\", \"Eritrea\", \"Liechtenstein\", \"Vietnam\", \"New Zealand\", \"Monaco\", \"Sao Tome and Principe\", \"Liberia\", \"Timor-Leste\", \"Saint Vincent and the Grenadines\", \"Antigua and Barbuda\", \"Mauritius\", \"Taiwan*\", \"Bhutan\", \"Diamond Princess\", \"Laos\", \"Tanzania\", \"Brunei\", \"Dominica\", \"Grenada\", \"Fiji\", \"Saint Kitts and Nevis\", \"Holy See\", \"Solomon Islands\", \"MS Zaandam\", \"Vanuatu\", \"Marshall Islands\", \"Samoa\", \"Micronesia\"], \"marker\": {\"color\": \"#636efa\", \"size\": [32175725, 17997113, 14441563, 5595403, 4725252, 4710582, 4425259, 3981512, 3496134, 3338564, 2905172, 2804881, 2768034, 2438193, 2333126, 2092421, 1768186, 1651794, 1622777, 1577200, 1497806, 1202672, 1179772, 1049539, 1045010, 1013618, 979034, 953254, 838217, 834991, 810231, 772707, 751659, 706355, 683799, 653957, 612170, 576870, 522763, 514591, 509972, 414219, 401109, 398451, 380498, 375329, 366709, 363533, 354669, 337723, 324833, 315119, 307925, 305850, 303584, 300258, 293466, 271814, 269681, 265481, 254044, 249714, 249644, 247489, 243167, 242926, 238023, 224517, 223025, 214064, 207320, 203599, 196732, 193721, 191398, 190096, 176254, 173548, 164912, 157492, 151122, 142740, 130736, 121344, 120836, 120673, 116132, 111686, 103638, 103524, 103487, 102419, 96930, 94277, 92464, 91418, 89630, 86161, 69762, 68922, 66594, 65998, 63720, 61063, 59688, 59225, 48011, 46600, 45885, 45212, 41737, 40193, 38164, 36190, 34031, 33891, 32437, 30234, 29750, 29701, 28588, 25942, 24814, 22772, 22568, 22389, 22046, 18448, 18314, 13915, 13722, 13308, 13263, 13121, 12999, 12884, 12826, 12631, 11063, 10931, 10835, 10728, 10678, 10553, 10220, 10157, 9947, 7720, 7559, 6898, 6447, 6359, 6220, 5882, 5354, 5220, 5058, 4779, 4508, 4046, 3884, 3829, 3828, 3731, 3640, 2903, 2857, 2609, 2442, 2299, 2098, 2048, 1844, 1232, 1206, 1110, 1053, 712, 511, 509, 223, 173, 159, 109, 44, 27, 20, 9, 4, 4, 3, 1], \"sizemode\": \"area\", \"sizeref\": 12870.29, \"symbol\": \"circle\"}, \"mode\": \"markers\", \"name\": \"\", \"showlegend\": false, \"type\": \"scattergeo\"}],                        {\"geo\": {\"center\": {}, \"domain\": {\"x\": [0.0, 1.0], \"y\": [0.0, 1.0]}}, \"legend\": {\"itemsizing\": \"constant\", \"tracegroupgap\": 0}, \"margin\": {\"t\": 60}, \"template\": {\"data\": {\"bar\": [{\"error_x\": {\"color\": \"#f2f5fa\"}, \"error_y\": {\"color\": \"#f2f5fa\"}, \"marker\": {\"line\": {\"color\": \"rgb(17,17,17)\", \"width\": 0.5}}, \"type\": \"bar\"}], \"barpolar\": [{\"marker\": {\"line\": {\"color\": \"rgb(17,17,17)\", \"width\": 0.5}}, \"type\": \"barpolar\"}], \"carpet\": [{\"aaxis\": {\"endlinecolor\": \"#A2B1C6\", \"gridcolor\": \"#506784\", \"linecolor\": \"#506784\", \"minorgridcolor\": \"#506784\", \"startlinecolor\": \"#A2B1C6\"}, \"baxis\": {\"endlinecolor\": \"#A2B1C6\", \"gridcolor\": \"#506784\", \"linecolor\": \"#506784\", \"minorgridcolor\": \"#506784\", \"startlinecolor\": \"#A2B1C6\"}, \"type\": \"carpet\"}], \"choropleth\": [{\"colorbar\": {\"outlinewidth\": 0, \"ticks\": \"\"}, \"type\": \"choropleth\"}], \"contour\": [{\"colorbar\": {\"outlinewidth\": 0, \"ticks\": \"\"}, \"colorscale\": [[0.0, \"#0d0887\"], [0.1111111111111111, \"#46039f\"], [0.2222222222222222, \"#7201a8\"], [0.3333333333333333, \"#9c179e\"], [0.4444444444444444, \"#bd3786\"], [0.5555555555555556, \"#d8576b\"], [0.6666666666666666, \"#ed7953\"], [0.7777777777777778, \"#fb9f3a\"], [0.8888888888888888, \"#fdca26\"], [1.0, \"#f0f921\"]], \"type\": \"contour\"}], \"contourcarpet\": [{\"colorbar\": {\"outlinewidth\": 0, \"ticks\": \"\"}, \"type\": \"contourcarpet\"}], \"heatmap\": [{\"colorbar\": {\"outlinewidth\": 0, \"ticks\": \"\"}, \"colorscale\": [[0.0, \"#0d0887\"], [0.1111111111111111, \"#46039f\"], [0.2222222222222222, \"#7201a8\"], [0.3333333333333333, \"#9c179e\"], [0.4444444444444444, \"#bd3786\"], [0.5555555555555556, \"#d8576b\"], [0.6666666666666666, \"#ed7953\"], [0.7777777777777778, \"#fb9f3a\"], [0.8888888888888888, \"#fdca26\"], [1.0, \"#f0f921\"]], \"type\": \"heatmap\"}], \"heatmapgl\": [{\"colorbar\": {\"outlinewidth\": 0, \"ticks\": \"\"}, \"colorscale\": [[0.0, \"#0d0887\"], [0.1111111111111111, \"#46039f\"], [0.2222222222222222, \"#7201a8\"], [0.3333333333333333, \"#9c179e\"], [0.4444444444444444, \"#bd3786\"], [0.5555555555555556, \"#d8576b\"], [0.6666666666666666, \"#ed7953\"], [0.7777777777777778, \"#fb9f3a\"], [0.8888888888888888, \"#fdca26\"], [1.0, \"#f0f921\"]], \"type\": \"heatmapgl\"}], \"histogram\": [{\"marker\": {\"colorbar\": {\"outlinewidth\": 0, \"ticks\": \"\"}}, \"type\": \"histogram\"}], \"histogram2d\": [{\"colorbar\": {\"outlinewidth\": 0, \"ticks\": \"\"}, \"colorscale\": [[0.0, \"#0d0887\"], [0.1111111111111111, \"#46039f\"], [0.2222222222222222, \"#7201a8\"], [0.3333333333333333, \"#9c179e\"], [0.4444444444444444, \"#bd3786\"], [0.5555555555555556, \"#d8576b\"], [0.6666666666666666, \"#ed7953\"], [0.7777777777777778, \"#fb9f3a\"], [0.8888888888888888, \"#fdca26\"], [1.0, \"#f0f921\"]], \"type\": \"histogram2d\"}], \"histogram2dcontour\": [{\"colorbar\": {\"outlinewidth\": 0, \"ticks\": \"\"}, \"colorscale\": [[0.0, \"#0d0887\"], [0.1111111111111111, \"#46039f\"], [0.2222222222222222, \"#7201a8\"], [0.3333333333333333, \"#9c179e\"], [0.4444444444444444, \"#bd3786\"], [0.5555555555555556, \"#d8576b\"], [0.6666666666666666, \"#ed7953\"], [0.7777777777777778, \"#fb9f3a\"], [0.8888888888888888, \"#fdca26\"], [1.0, \"#f0f921\"]], \"type\": \"histogram2dcontour\"}], \"mesh3d\": [{\"colorbar\": {\"outlinewidth\": 0, \"ticks\": \"\"}, \"type\": \"mesh3d\"}], \"parcoords\": [{\"line\": {\"colorbar\": {\"outlinewidth\": 0, \"ticks\": \"\"}}, \"type\": \"parcoords\"}], \"pie\": [{\"automargin\": true, \"type\": \"pie\"}], \"scatter\": [{\"marker\": {\"line\": {\"color\": \"#283442\"}}, \"type\": \"scatter\"}], \"scatter3d\": [{\"line\": {\"colorbar\": {\"outlinewidth\": 0, \"ticks\": \"\"}}, \"marker\": {\"colorbar\": {\"outlinewidth\": 0, \"ticks\": \"\"}}, \"type\": \"scatter3d\"}], \"scattercarpet\": [{\"marker\": {\"colorbar\": {\"outlinewidth\": 0, \"ticks\": \"\"}}, \"type\": \"scattercarpet\"}], \"scattergeo\": [{\"marker\": {\"colorbar\": {\"outlinewidth\": 0, \"ticks\": \"\"}}, \"type\": \"scattergeo\"}], \"scattergl\": [{\"marker\": {\"line\": {\"color\": \"#283442\"}}, \"type\": \"scattergl\"}], \"scattermapbox\": [{\"marker\": {\"colorbar\": {\"outlinewidth\": 0, \"ticks\": \"\"}}, \"type\": \"scattermapbox\"}], \"scatterpolar\": [{\"marker\": {\"colorbar\": {\"outlinewidth\": 0, \"ticks\": \"\"}}, \"type\": \"scatterpolar\"}], \"scatterpolargl\": [{\"marker\": {\"colorbar\": {\"outlinewidth\": 0, \"ticks\": \"\"}}, \"type\": \"scatterpolargl\"}], \"scatterternary\": [{\"marker\": {\"colorbar\": {\"outlinewidth\": 0, \"ticks\": \"\"}}, \"type\": \"scatterternary\"}], \"surface\": [{\"colorbar\": {\"outlinewidth\": 0, \"ticks\": \"\"}, \"colorscale\": [[0.0, \"#0d0887\"], [0.1111111111111111, \"#46039f\"], [0.2222222222222222, \"#7201a8\"], [0.3333333333333333, \"#9c179e\"], [0.4444444444444444, \"#bd3786\"], [0.5555555555555556, \"#d8576b\"], [0.6666666666666666, \"#ed7953\"], [0.7777777777777778, \"#fb9f3a\"], [0.8888888888888888, \"#fdca26\"], [1.0, \"#f0f921\"]], \"type\": \"surface\"}], \"table\": [{\"cells\": {\"fill\": {\"color\": \"#506784\"}, \"line\": {\"color\": \"rgb(17,17,17)\"}}, \"header\": {\"fill\": {\"color\": \"#2a3f5f\"}, \"line\": {\"color\": \"rgb(17,17,17)\"}}, \"type\": \"table\"}]}, \"layout\": {\"annotationdefaults\": {\"arrowcolor\": \"#f2f5fa\", \"arrowhead\": 0, \"arrowwidth\": 1}, \"autotypenumbers\": \"strict\", \"coloraxis\": {\"colorbar\": {\"outlinewidth\": 0, \"ticks\": \"\"}}, \"colorscale\": {\"diverging\": [[0, \"#8e0152\"], [0.1, \"#c51b7d\"], [0.2, \"#de77ae\"], [0.3, \"#f1b6da\"], [0.4, \"#fde0ef\"], [0.5, \"#f7f7f7\"], [0.6, \"#e6f5d0\"], [0.7, \"#b8e186\"], [0.8, \"#7fbc41\"], [0.9, \"#4d9221\"], [1, \"#276419\"]], \"sequential\": [[0.0, \"#0d0887\"], [0.1111111111111111, \"#46039f\"], [0.2222222222222222, \"#7201a8\"], [0.3333333333333333, \"#9c179e\"], [0.4444444444444444, \"#bd3786\"], [0.5555555555555556, \"#d8576b\"], [0.6666666666666666, \"#ed7953\"], [0.7777777777777778, \"#fb9f3a\"], [0.8888888888888888, \"#fdca26\"], [1.0, \"#f0f921\"]], \"sequentialminus\": [[0.0, \"#0d0887\"], [0.1111111111111111, \"#46039f\"], [0.2222222222222222, \"#7201a8\"], [0.3333333333333333, \"#9c179e\"], [0.4444444444444444, \"#bd3786\"], [0.5555555555555556, \"#d8576b\"], [0.6666666666666666, \"#ed7953\"], [0.7777777777777778, \"#fb9f3a\"], [0.8888888888888888, \"#fdca26\"], [1.0, \"#f0f921\"]]}, \"colorway\": [\"#636efa\", \"#EF553B\", \"#00cc96\", \"#ab63fa\", \"#FFA15A\", \"#19d3f3\", \"#FF6692\", \"#B6E880\", \"#FF97FF\", \"#FECB52\"], \"font\": {\"color\": \"#f2f5fa\"}, \"geo\": {\"bgcolor\": \"rgb(17,17,17)\", \"lakecolor\": \"rgb(17,17,17)\", \"landcolor\": \"rgb(17,17,17)\", \"showlakes\": true, \"showland\": true, \"subunitcolor\": \"#506784\"}, \"hoverlabel\": {\"align\": \"left\"}, \"hovermode\": \"closest\", \"mapbox\": {\"style\": \"dark\"}, \"paper_bgcolor\": \"rgb(17,17,17)\", \"plot_bgcolor\": \"rgb(17,17,17)\", \"polar\": {\"angularaxis\": {\"gridcolor\": \"#506784\", \"linecolor\": \"#506784\", \"ticks\": \"\"}, \"bgcolor\": \"rgb(17,17,17)\", \"radialaxis\": {\"gridcolor\": \"#506784\", \"linecolor\": \"#506784\", \"ticks\": \"\"}}, \"scene\": {\"xaxis\": {\"backgroundcolor\": \"rgb(17,17,17)\", \"gridcolor\": \"#506784\", \"gridwidth\": 2, \"linecolor\": \"#506784\", \"showbackground\": true, \"ticks\": \"\", \"zerolinecolor\": \"#C8D4E3\"}, \"yaxis\": {\"backgroundcolor\": \"rgb(17,17,17)\", \"gridcolor\": \"#506784\", \"gridwidth\": 2, \"linecolor\": \"#506784\", \"showbackground\": true, \"ticks\": \"\", \"zerolinecolor\": \"#C8D4E3\"}, \"zaxis\": {\"backgroundcolor\": \"rgb(17,17,17)\", \"gridcolor\": \"#506784\", \"gridwidth\": 2, \"linecolor\": \"#506784\", \"showbackground\": true, \"ticks\": \"\", \"zerolinecolor\": \"#C8D4E3\"}}, \"shapedefaults\": {\"line\": {\"color\": \"#f2f5fa\"}}, \"sliderdefaults\": {\"bgcolor\": \"#C8D4E3\", \"bordercolor\": \"rgb(17,17,17)\", \"borderwidth\": 1, \"tickwidth\": 0}, \"ternary\": {\"aaxis\": {\"gridcolor\": \"#506784\", \"linecolor\": \"#506784\", \"ticks\": \"\"}, \"baxis\": {\"gridcolor\": \"#506784\", \"linecolor\": \"#506784\", \"ticks\": \"\"}, \"bgcolor\": \"rgb(17,17,17)\", \"caxis\": {\"gridcolor\": \"#506784\", \"linecolor\": \"#506784\", \"ticks\": \"\"}}, \"title\": {\"x\": 0.05}, \"updatemenudefaults\": {\"bgcolor\": \"#506784\", \"borderwidth\": 0}, \"xaxis\": {\"automargin\": true, \"gridcolor\": \"#283442\", \"linecolor\": \"#506784\", \"ticks\": \"\", \"title\": {\"standoff\": 15}, \"zerolinecolor\": \"#283442\", \"zerolinewidth\": 2}, \"yaxis\": {\"automargin\": true, \"gridcolor\": \"#283442\", \"linecolor\": \"#506784\", \"ticks\": \"\", \"title\": {\"standoff\": 15}, \"zerolinecolor\": \"#283442\", \"zerolinewidth\": 2}}}},                        {\"responsive\": true}                    ).then(function(){\n",
       "                            \n",
       "var gd = document.getElementById('d99d5ad7-f398-4278-a380-9d1030e61968');\n",
       "var x = new MutationObserver(function (mutations, observer) {{\n",
       "        var display = window.getComputedStyle(gd).display;\n",
       "        if (!display || display === 'none') {{\n",
       "            console.log([gd, 'removed!']);\n",
       "            Plotly.purge(gd);\n",
       "            observer.disconnect();\n",
       "        }}\n",
       "}});\n",
       "\n",
       "// Listen for the removal of the full notebook cells\n",
       "var notebookContainer = gd.closest('#notebook-container');\n",
       "if (notebookContainer) {{\n",
       "    x.observe(notebookContainer, {childList: true});\n",
       "}}\n",
       "\n",
       "// Listen for the clearing of the current output cell\n",
       "var outputEl = gd.closest('.output');\n",
       "if (outputEl) {{\n",
       "    x.observe(outputEl, {childList: true});\n",
       "}}\n",
       "\n",
       "                        })                };                });            </script>        </div>"
      ]
     },
     "metadata": {},
     "output_type": "display_data"
    }
   ],
   "source": [
    "import plotly.express as px\n",
    "from data import countries_df\n",
    "\n",
    "fig = px.scatter_geo(countries_df, size=\"Confirmed\", hover_name=\"Country_Region\" ,locations=\"Country_Region\", locationmode=\"country names\", hover_data={\"Confirmed\":\":,2f\", \"Deaths\":\":,2f\", \"Recovered\":\":,2f\", \"Country_Region\":False}, size_max=50, template=\"plotly_dark\")\n",
    "fig.show()"
   ]
  },
  {
   "cell_type": "code",
   "execution_count": null,
   "metadata": {},
   "outputs": [],
   "source": []
  }
 ],
 "metadata": {
  "kernelspec": {
   "display_name": "Python 3",
   "language": "python",
   "name": "python3"
  },
  "language_info": {
   "codemirror_mode": {
    "name": "ipython",
    "version": 3
   },
   "file_extension": ".py",
   "mimetype": "text/x-python",
   "name": "python",
   "nbconvert_exporter": "python",
   "pygments_lexer": "ipython3",
   "version": "3.8.8"
  }
 },
 "nbformat": 4,
 "nbformat_minor": 4
}
